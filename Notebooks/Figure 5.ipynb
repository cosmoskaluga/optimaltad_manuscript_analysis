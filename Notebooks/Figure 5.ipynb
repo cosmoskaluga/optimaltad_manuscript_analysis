{
 "cells": [
  {
   "cell_type": "code",
   "execution_count": 1,
   "id": "74bd6787",
   "metadata": {},
   "outputs": [],
   "source": [
    "import numpy as np\n",
    "import pandas as pd\n",
    "import sys\n",
    "import os\n",
    "import glob\n",
    "import shutil\n",
    "import h5py\n",
    "from itertools import repeat\n",
    "from collections import Counter\n",
    "import matplotlib.pyplot as plt\n",
    "import seaborn as sns"
   ]
  },
  {
   "cell_type": "code",
   "execution_count": 2,
   "id": "1bd699a0",
   "metadata": {},
   "outputs": [],
   "source": [
    "def get_tad_files(input_path):\n",
    "    gamma_values = np.linspace(1, 1, 1, endpoint = True)\n",
    "    tad_files = {key: [] for key in gamma_values}\n",
    "    path =  input_path + '/*'\n",
    "    filenames = glob.glob(path)\n",
    "    for gamma, file in zip(gamma_values, filenames):\n",
    "        tad_files[gamma].append(file)\n",
    "        \n",
    "    return tad_files\n",
    "\n",
    "\n",
    "    \n",
    "def numeration(size, interaction_type = 'tad'):\n",
    "    if size%2 == 0:\n",
    "        dist = np.arange(size//2)\n",
    "        dist = np.concatenate([dist, dist[::-1]])\n",
    "    else:\n",
    "        dist = np.arange((size-1)//2)\n",
    "        dist = np.concatenate([dist, [size//2], dist[::-1]])\n",
    "        \n",
    "    if interaction_type == 'intertad':\n",
    "        dist = (dist + 1) * (-1)\n",
    "    return dist\n",
    "\n",
    "\n",
    "\n",
    "def columns(first_col, second_col, start, end, resolution, interaction_type = 'tad'):\n",
    "    size = (end-start)/resolution\n",
    "    col1 = np.arange(start, end, resolution)\n",
    "    \n",
    "    if interaction_type != 'skip':\n",
    "        col2 = numeration(int(size), interaction_type).astype(str)\n",
    "    else:\n",
    "        col2 = np.repeat(np.nan, size)\n",
    "\n",
    "    first_col = np.append(first_col, col1)\n",
    "    second_col = np.append(second_col, col2)\n",
    "    return first_col, second_col.astype(str)\n",
    "\n",
    "\n",
    "\n",
    "def get_distances(data, length, chromosome, resolution):\n",
    "    first_col = np.array([])\n",
    "    second_col = np.array([])\n",
    "    \n",
    "    bp = 0\n",
    "    start_bin = int(data[0][1])\n",
    "    if start_bin != 0:\n",
    "        first_col, second_col = columns(first_col, second_col, bp, start_bin, resolution, interaction_type = 'skip')\n",
    "    bp = start_bin\n",
    "\n",
    "    for row in data:\n",
    "        start_bin, end_bin = row[1], row[2]\n",
    "        if bp != start_bin:\n",
    "            first_col, second_col = columns(first_col, second_col, bp, start_bin, resolution, interaction_type = 'intertad')\n",
    "        first_col, second_col = columns(first_col, second_col, start_bin, end_bin, resolution, interaction_type = 'tad')\n",
    "        bp = end_bin\n",
    "\n",
    "    if (length > bp):\n",
    "        start, end = bp, length\n",
    "        first_col, second_col = columns(first_col, second_col, bp, end, resolution, interaction_type = 'skip')\n",
    "    \n",
    "    labels = np.repeat([chromosome], len(first_col))\n",
    "    out = np.vstack((labels, first_col.astype(int), second_col))\n",
    "    return np.transpose(out) \n",
    "\n"
   ]
  },
  {
   "cell_type": "code",
   "execution_count": 3,
   "id": "445afc28",
   "metadata": {},
   "outputs": [],
   "source": [
    "def get_numeration(chr_labels, input_path, resolution, chr_length):\n",
    "    chr_length = np.array(chr_length) * resolution\n",
    "    tad_files = get_tad_files(input_path)\n",
    "\n",
    "    dict_md = {key: [] for key in tad_files.keys()}\n",
    "    chrs_counter = 0\n",
    "    data = pd.read_csv(tad_files[1][0])\n",
    "    \n",
    "    df = pd.DataFrame()\n",
    "    lbl_total = chr_labels\n",
    "    for length, label in zip(chr_length, chr_labels):\n",
    "        data_sub = data.loc[data['Chr'] == label]\n",
    "        markdown  = get_distances(data_sub.values, length, label, resolution)\n",
    "        df_chr = pd.DataFrame(markdown)\n",
    "        df = pd.concat([df, df_chr])\n",
    "        chrs_counter += 1\n",
    "        \n",
    "    dict_md[1].append(df.values)\n",
    "    dict_md[1].append(lbl_total)\n",
    "\n",
    "    if chrs_counter == 0:\n",
    "        print('There are no TADs identified across resolutions and replicates of Hi-C data!')\n",
    "\n",
    "    return dict_md, tad_files\n"
   ]
  },
  {
   "cell_type": "code",
   "execution_count": 4,
   "id": "bec82c97",
   "metadata": {},
   "outputs": [],
   "source": [
    "def optimal_gamma(data):\n",
    "    samples = data.columns[1:]\n",
    "    gamma = data.Gamma\n",
    "    for sample in samples:\n",
    "        maxindex = data[sample].idxmax()\n",
    "    \n",
    "    return round(gamma[maxindex], 2)\n",
    "\n",
    "\n",
    "def select_optimal_tads(tads, optimal_gamma, samplename):\n",
    "    dst = check_path('output/', 'optimal_gamma', samplename)\n",
    "    merged_tads = pd.DataFrame(columns = ['Chr', 'Start', 'End'])\n",
    "    for src in tads[optimal_gamma]:\n",
    "        tad = pd.read_csv(src, header = None, names = ['Chr', 'Start', 'End'], sep = '\\t')\n",
    "        tad = tad[::-1]\n",
    "        tad.End += 1\n",
    "        merged_tads = pd.concat([merged_tads, tad])\n",
    "    merged_tads.to_csv(dst + 'domains.tad', header = True, index = False)\n",
    "\n",
    "\n",
    "def save_stairs(data, index_min, index_max, output_path):\n",
    "    data = pd.DataFrame(data)\n",
    "    x_val = np.arange(index_min, index_max, 1)\n",
    "    data.index = x_val\n",
    "    data.to_csv(output_path, header = True, index=True)\n",
    "\n",
    "\n",
    "def nan_array_comparison(func, arr, thresh):\n",
    "    # https://stackoverflow.com/questions/47340000/how-to-get-rid-of-runtimewarning-invalid-value-encountered-in-greater\n",
    "    # by Divakar\n",
    "    bool_arr = ~np.isnan(arr)\n",
    "    bool_arr[bool_arr] = func(arr[bool_arr], thresh)\n",
    "    return bool_arr\n",
    "\n",
    "\n",
    "def progressbar (iteration, total):\n",
    "    prefix = ' '*21\n",
    "    suffix = 'complete'\n",
    "    length = 47\n",
    "    decimals = 1\n",
    "    fill = '█'\n",
    "    \n",
    "    percent = ('{0:.' + str(decimals) + 'f}').format(100 * (iteration / float(total)))\n",
    "    filledLength = int(length * iteration // total)\n",
    "    bar = fill * filledLength + '-' * (length - filledLength)\n",
    "    print('\\r%s |%s| %s%% %s' % (prefix, bar, percent, suffix), end = '\\r')\n",
    "    if iteration == total:\n",
    "        print()\n",
    "\n",
    "def check_path(path, folder_name, name = None):\n",
    "    dirName = os.path.join(path, folder_name, name + '/')\n",
    "    if not os.path.exists(dirName):\n",
    "        os.makedirs(dirName, exist_ok=True)\n",
    "    else:\n",
    "        for old_file in glob.glob(os.path.join(dirName, '*')):\n",
    "            os.remove(old_file)\n",
    "    return dirName\n",
    "\n",
    "\n",
    "def split_chromosome_input(region, resolution):\n",
    "    region_split = region.split(':')\n",
    "    try:\n",
    "        chromosome = region_split[0]\n",
    "        if len(region_split) == 2:\n",
    "            coordinates = region_split[1].split('-')\n",
    "            start_bin = int(coordinates[0].replace(',',''))\n",
    "            end_bin = int(coordinates[1].replace(',',''))\n",
    "\n",
    "            start_bin = int(start_bin/resolution)\n",
    "            end_bin = int(end_bin/resolution)\n",
    "        else:\n",
    "            start_bin = 0\n",
    "            end_bin = None\n",
    "\n",
    "    except ValueError:\n",
    "        print('Invalid format of chromosome coordinates!')\n",
    "\n",
    "    return chromosome, start_bin, end_bin\n",
    "\n",
    "\n",
    "def get_chipname(chipnames, subfname):\n",
    "    c = 0\n",
    "    for name in chipnames:\n",
    "        f = os.path.split(name)[1].split('.')[0]\n",
    "        if f == subfname:\n",
    "            break\n",
    "        c+=1\n",
    "    return chipnames[0]\n",
    "\n",
    "\n",
    "def get_labels(start_bin, end_bin, nticks, resolution):\n",
    "    interval = (end_bin - start_bin)\n",
    "    ticks = list(np.linspace(0, interval, nticks).astype(int))\n",
    "    pos = np.linspace(start_bin, end_bin, nticks) * resolution/1000 # kb\n",
    "    pos = pos.astype(int).astype(str)\n",
    "    labels = [i + ' kb' for i in pos]\n",
    "    return ticks, labels\n",
    "\n",
    "\n",
    "def check_prefix(vector):\n",
    "    return [\"chr\" in chrm for chrm in vector]\n",
    "\n",
    "\n",
    "def check_chrnames(labels_config, labels):\n",
    "    if np.any(check_prefix(labels)) and not np.all(check_prefix(labels_config)):\n",
    "        labels_config = ['chr'+ chrm for chrm in labels_config]\n",
    "    elif not np.any(check_prefix(labels)) and np.all(check_prefix(labels_config)):   \n",
    "        labels_config = [chrm[3:] for chrm in labels_config]\n",
    "        \n",
    "    if set(labels_config).issubset(set(labels)):\n",
    "        chrnames = labels_config\n",
    "    elif len(set(labels).intersection(labels_config)) > 0:\n",
    "        chrnames = np.array(set(labels).intersection(labels_config))\n",
    "    else:\n",
    "        print('ERROR: Specified choromosomes are not found! Please set correct chromosome names in the configuration file.')\n",
    "        sys.exit(1)\n",
    "            \n",
    "    return chrnames\n",
    "\n",
    "\n",
    "def check_filenames(hic_files, chipseq_files):\n",
    "    samplenames = [os.path.split(i)[1].split('.')[0] for i in hic_files]\n",
    "    hic_files_number = len(hic_files)\n",
    "    chipseq_files_number = len(chipseq_files)\n",
    "    if hic_files_number != chipseq_files_number:\n",
    "        if hic_files_number == 1:\n",
    "            hic_files = np.repeat(hic_files, chipseq_files_number)\n",
    "            samplenames = [os.path.split(i)[1].split('.')[0] for i in chipseq_files]\n",
    "        elif chipseq_files_number == 1:\n",
    "            chipseq_files = np.repeat(chipseq_files, hic_files_number)\n",
    "        else:\n",
    "            print(\"ERROR: Please provide correct number of input Hi-C and ChIP-seq files\")\n",
    "            sys.exit(1)\n",
    "        \n",
    "    return np.array(sorted(hic_files)), np.array(sorted(chipseq_files)), np.array(sorted(samplenames))\n",
    "\n"
   ]
  },
  {
   "cell_type": "code",
   "execution_count": 5,
   "id": "ffc58a17",
   "metadata": {},
   "outputs": [],
   "source": [
    "bedgraph_extensions = ['.bedgraph', '.bedGraph', '.BedGraph', '.bg']\n",
    "bigwig_extensions = ['.bigwig', '.bigWig', '.BigWig', '.bw']\n",
    "\n",
    "\n",
    "def equal_sizes(data, chromsize):\n",
    "    data_size = dict(Counter(data.Chr.values))\n",
    "    return data_size == chromsize\n",
    "\n",
    "\n",
    "def binarize_data(data, chromsize, resolution):\n",
    "    if equal_sizes(data, chromsize) != True:\n",
    "        df = pd.DataFrame([])\n",
    "        sizes = np.fromiter(chromsize.values(), dtype = int)\n",
    "        for chrname, length in zip(np.unique(data.Chr.values), sizes):\n",
    "            chr_data = data.loc[data.Chr == chrname]\n",
    "            arr = []\n",
    "            for i in np.arange(0, resolution*length, resolution):\n",
    "                d = chr_data.loc[(chr_data.Start < i+resolution) & (chr_data.Start >= i)]\n",
    "                arr.append([chrname, str(i), str(i+resolution), str(d.Score.mean(skipna=True))])\n",
    "\n",
    "            arr = np.reshape(arr, (length, 4))\n",
    "            df = pd.concat([df, pd.DataFrame(arr)])\n",
    "        data = df\n",
    "        data.columns = ['Chr', 'Start', 'End', 'Score']\n",
    "        data.replace(['inf', '-inf'], 'nan', inplace=True)\n",
    "    \n",
    "    return data\n",
    "\n",
    "\n",
    "\n",
    "def get_bedgraph(self):\n",
    "    df_chip = pd.read_csv(self.path, sep = ' ', comment = 't', header = None, names = ['Chr', 'Start', 'End', 'Score'])\n",
    "\n",
    "    if self.chrnames != ['']:\n",
    "        labels = check_chrnames(self.chrnames, np.unique(df_chip.Chr))\n",
    "        df_chip = df_chip.loc[df_chip['Chr'].isin(labels)]\n",
    "\n",
    "    df_chip = df_chip.replace('NA', 'nan')\n",
    "    df_chip.replace(['inf', '-inf'], 'nan', inplace=True)\n",
    "\n",
    "    df_chip = binarize_data(df_chip, self.chromsize, self.resolution)\n",
    "    convert_dict = {'Chr': str, 'Start': int, 'End': int, 'Score': float}\n",
    "    df_chip = df_chip.astype(convert_dict)\n",
    "\n",
    "    return df_chip\n",
    "\n",
    "\n",
    "\n",
    "def get_bigwig_file(self):\n",
    "    import pyBigWig\n",
    "    bw = pyBigWig.open(self.path)\n",
    "    if bw.isBigWig() == False:\n",
    "        print('Incompatible format of ChIP-seq file!')\n",
    "        sys.exit(1)\n",
    "\n",
    "    df_chip = pd.DataFrame([])\n",
    "\n",
    "    for ch in bw.chroms().keys():\n",
    "        intervals = bw.intervals(ch)\n",
    "        df_intervals = pd.DataFrame(intervals, columns = ['Start', 'End', 'Score'])\n",
    "        chr_labels = list(repeat(ch, len(df_intervals.index)))\n",
    "        df_chr = pd.concat([pd.DataFrame(chr_labels, columns = ['Chr']), df_intervals], axis = 1)\n",
    "        if df_chip.empty:\n",
    "            df_chip = df_chr\n",
    "        else:\n",
    "            df_chip = pd.concat([df_chip, df_chr])\n",
    "\n",
    "        convert_dict = {'Chr': str, 'Start': int, 'End': int, 'Score': float}\n",
    "        df_chip = df_chip.astype(convert_dict)\n",
    "\n",
    "        if self.chrnames != ['']:\n",
    "            labels = check_chrnames(self.chrnames, np.unique(df_chip.Chr))\n",
    "            df_chip = df_chip.loc[df_chip['Chr'].isin(labels)]\n",
    "\n",
    "        df_chip = binarize_data(df_chip, self.chromsize, self.resolution)\n",
    "\n",
    "    return df_chip\n",
    "\n",
    "\n",
    "class ChipSeq:\n",
    "    def __init__(self, path, set_chromosomes, chromsize, resolution):\n",
    "        self.path = path\n",
    "        self.extension = os.path.splitext(path)[1]\n",
    "        self.chromsize = chromsize\n",
    "        self.resolution = resolution\n",
    "\n",
    "        if set_chromosomes != 'None':\n",
    "            self.chrnames = set_chromosomes.split(',')\n",
    "        else:  \n",
    "            self.chrnames = ['']\n",
    "\n",
    "        accepted_extensions = bedgraph_extensions + bigwig_extensions\n",
    "        if self.extension not in accepted_extensions:\n",
    "            print('Incompatible format of ChIP-seq file!')\n",
    "            sys.exit(1)\n",
    "\n",
    "    def __call__(self, log2_chip, zscore_chip):\n",
    "        if self.extension in bedgraph_extensions:\n",
    "            df_chip = get_bedgraph(self)\n",
    "        else:\n",
    "            df_chip = get_bigwig_file(self)\n",
    "        \n",
    "        if log2_chip:\n",
    "            score = df_chip.Score.values\n",
    "            bool_arr = nan_array_comparison(np.less, score, 1e-10)\n",
    "            score[bool_arr] = np.nan\n",
    "            df_chip.Score = np.log2(df_chip.Score.values)\n",
    "            df_chip = df_chip.replace(np.inf, np.nan)\n",
    "        \n",
    "        if zscore_chip:\n",
    "            df_chip.Score = (df_chip.Score - df_chip.Score.mean()) / df_chip.Score.std(ddof=0)\n",
    "\n",
    "        return df_chip\n"
   ]
  },
  {
   "cell_type": "code",
   "execution_count": 6,
   "id": "5cda54f1",
   "metadata": {},
   "outputs": [],
   "source": [
    "def get_stairs(index_data, chip_data, index_min = -5, index_max = 5, acetyl_min = -3, acetyl_max = 5):\n",
    "    kb_list = np.arange(index_min, index_max, 1)\n",
    "    gamma_range = index_data.keys()\n",
    "    dict_amplitudes = {key: None for key in gamma_range}\n",
    "    dict_stairs = {key: None for key in gamma_range}\n",
    "    convert_chip = {'Chr': str, 'Start': int, 'End': int, 'Score': float}\n",
    "    convert_dist = {'Chr': str, 'Bp': int, 'Index': str}\n",
    "    \n",
    "    print(gamma_range)\n",
    "    for gamma in gamma_range:\n",
    "        df_dist = pd.DataFrame(index_data[1][0], columns = ['Chr', 'Bp', 'Index'])\n",
    "        chromosomes = index_data[1][1]\n",
    "\n",
    "        \n",
    "        df_dist = df_dist.loc[df_dist['Chr'].isin(chromosomes)]\n",
    "        df_chip = chip_data.loc[chip_data['Chr'].isin(chromosomes)]\n",
    "        \n",
    "        df_dist = df_dist.astype(convert_dist)\n",
    "        df_chip = df_chip.astype(convert_chip)\n",
    "        \n",
    "        df_dist = df_dist.sort_values(by = [\"Chr\", \"Bp\"])\n",
    "        df_chip = df_chip.sort_values(by = [\"Chr\", \"Start\"])\n",
    "        \n",
    "        df_dist.index = np.arange(df_dist.shape[0])\n",
    "        df_chip.index = np.arange(df_chip.shape[0])\n",
    "        \n",
    "        median_val = []\n",
    "        interTAD = []\n",
    "        TAD = []\n",
    "        \n",
    "        for idx in kb_list:\n",
    "            row = df_dist.loc[df_dist.Index == str(idx)]\n",
    "            if row.empty == False:\n",
    "                bins = row.index.values\n",
    "                d_chip = df_chip.loc[df_chip.index.isin(bins)]\n",
    "                acetyl_val = d_chip['Score'].values\n",
    "                acetyl_val = acetyl_val[~np.isnan(acetyl_val)]\n",
    "                acetyl_val = acetyl_val[(acetyl_val > acetyl_min) & (acetyl_val < acetyl_max)]\n",
    "                \n",
    "                if len(acetyl_val) == 0:\n",
    "                    median_val.append(np.nan)\n",
    "                else:\n",
    "                    median_val.append(np.median(acetyl_val))\n",
    "                \n",
    "                if idx <= -1:\n",
    "                    interTAD = np.append(interTAD, acetyl_val)\n",
    "                if idx >= 0:\n",
    "                    TAD = np.append(TAD, acetyl_val)\n",
    "            else:\n",
    "                median_val.append(np.nan)\n",
    "        \n",
    "        amplitude = np.median(interTAD) - np.median(TAD)\n",
    "        dict_stairs[1] = np.array(median_val)\n",
    "        dict_amplitudes[1] = amplitude\n",
    "    \n",
    "    return dict_stairs, dict_amplitudes"
   ]
  },
  {
   "cell_type": "markdown",
   "id": "32adea12",
   "metadata": {},
   "source": [
    "## ClusterTAD"
   ]
  },
  {
   "cell_type": "code",
   "execution_count": 7,
   "id": "5e10968a",
   "metadata": {},
   "outputs": [],
   "source": [
    "chip_path = \"/Users/dmitriismirnov/Desktop/Skoltech/TADs/Drosophila/GSE62904/Files/BEAF.bedgraph\"\n",
    "ChipSeqLoader = ChipSeq(chip_path, \"chr2L,chr2R,chr3L,chr3R,chrX\", \n",
    "                        {\"chr2L\":1151, \"chr2R\":1058, \"chr3L\":1228, \"chr3R\":1396, \"chrX\":1122}, 20000)\n",
    "chip_data = ChipSeqLoader(True, True)"
   ]
  },
  {
   "cell_type": "code",
   "execution_count": 8,
   "id": "59c287fc",
   "metadata": {},
   "outputs": [],
   "source": [
    "ind, tads = get_numeration(chr_labels = [\"chr2L\", \"chr2R\", \"chr3L\", \"chr3R\", \"chrX\"],\n",
    "            input_path = \"/Users/dmitriismirnov/Dropbox/Projects/optimalTAD/Results/TAD_tool_comparison/ClusterTAD/\",\n",
    "            resolution = 20000, \n",
    "            chr_length = [1151, 1058, 1228, 1396, 1122])"
   ]
  },
  {
   "cell_type": "code",
   "execution_count": 9,
   "id": "b3a60d3b",
   "metadata": {},
   "outputs": [
    {
     "name": "stdout",
     "output_type": "stream",
     "text": [
      "dict_keys([1.0])\n"
     ]
    }
   ],
   "source": [
    "cluster_tad_stairs, amplitudes = get_stairs(ind, chip_data, index_min = -4, index_max = 5, \n",
    "                                            acetyl_min = -3, acetyl_max = 5)"
   ]
  },
  {
   "cell_type": "code",
   "execution_count": 10,
   "id": "7b31204a",
   "metadata": {},
   "outputs": [
    {
     "data": {
      "text/plain": [
       "{1.0: 0.6620897335708665}"
      ]
     },
     "execution_count": 10,
     "metadata": {},
     "output_type": "execute_result"
    }
   ],
   "source": [
    "amplitudes"
   ]
  },
  {
   "cell_type": "markdown",
   "id": "a07ca4fa",
   "metadata": {},
   "source": [
    "## TopDom"
   ]
  },
  {
   "cell_type": "code",
   "execution_count": 11,
   "id": "16a8479d",
   "metadata": {},
   "outputs": [],
   "source": [
    "ind, tads = get_numeration(chr_labels = [\"chr2L\", \"chr2R\", \"chr3L\", \"chr3R\", \"chrX\"],\n",
    "            input_path = \"/Users/dmitriismirnov/Dropbox/Projects/optimalTAD/Results/TAD_tool_comparison/TopDom/10/\",\n",
    "            resolution = 20000, \n",
    "            chr_length = [1151, 1058, 1228, 1396, 1122])"
   ]
  },
  {
   "cell_type": "code",
   "execution_count": 12,
   "id": "fef91d68",
   "metadata": {},
   "outputs": [
    {
     "name": "stdout",
     "output_type": "stream",
     "text": [
      "dict_keys([1.0])\n"
     ]
    }
   ],
   "source": [
    "topdom_stairs, amplitudes = get_stairs(ind, chip_data, index_min = -4, index_max = 5, acetyl_min = -3, acetyl_max = 5)"
   ]
  },
  {
   "cell_type": "code",
   "execution_count": 13,
   "id": "f07df28e",
   "metadata": {},
   "outputs": [
    {
     "data": {
      "text/plain": [
       "{1.0: 0.9679367971269934}"
      ]
     },
     "execution_count": 13,
     "metadata": {},
     "output_type": "execute_result"
    }
   ],
   "source": [
    "amplitudes"
   ]
  },
  {
   "cell_type": "markdown",
   "id": "b9f86e4b",
   "metadata": {},
   "source": [
    "## Caspian"
   ]
  },
  {
   "cell_type": "markdown",
   "id": "186d4941",
   "metadata": {},
   "source": [
    "Chebyshev"
   ]
  },
  {
   "cell_type": "code",
   "execution_count": 17,
   "id": "e69da200",
   "metadata": {},
   "outputs": [],
   "source": [
    "ind, tads = get_numeration(chr_labels = [\"chr2L\", \"chr2R\", \"chr3L\", \"chr3R\", \"chrX\"],\n",
    "    input_path = \"/Users/dmitriismirnov/Dropbox/Projects/optimalTAD/Results/TAD_tool_comparison/Caspian/Chebyshev/\",\n",
    "    resolution = 20000, \n",
    "    chr_length = [1151, 1058, 1228, 1396, 1122])"
   ]
  },
  {
   "cell_type": "code",
   "execution_count": 18,
   "id": "7c0c587f",
   "metadata": {},
   "outputs": [
    {
     "name": "stdout",
     "output_type": "stream",
     "text": [
      "dict_keys([1.0])\n"
     ]
    }
   ],
   "source": [
    "cheb_stairs, amplitudes = get_stairs(ind, chip_data, index_min = -4, index_max = 5, acetyl_min = -3, acetyl_max = 5)"
   ]
  },
  {
   "cell_type": "code",
   "execution_count": 19,
   "id": "54204d54",
   "metadata": {},
   "outputs": [
    {
     "data": {
      "text/plain": [
       "{1.0: 0.08266504201894675}"
      ]
     },
     "execution_count": 19,
     "metadata": {},
     "output_type": "execute_result"
    }
   ],
   "source": [
    "amplitudes"
   ]
  },
  {
   "cell_type": "markdown",
   "id": "f2da1ef3",
   "metadata": {},
   "source": [
    "Euclidian"
   ]
  },
  {
   "cell_type": "code",
   "execution_count": 20,
   "id": "7d48ebe3",
   "metadata": {},
   "outputs": [],
   "source": [
    "ind, tads = get_numeration(chr_labels = [\"chr2L\", \"chr2R\", \"chr3L\", \"chr3R\", \"chrX\"],\n",
    "    input_path = \"/Users/dmitriismirnov/Dropbox/Projects/optimalTAD/Results/TAD_tool_comparison/Caspian/Euclidean/\",\n",
    "    resolution = 20000, \n",
    "    chr_length = [1151, 1058, 1228, 1396, 1122])"
   ]
  },
  {
   "cell_type": "code",
   "execution_count": 21,
   "id": "ebb68b3a",
   "metadata": {},
   "outputs": [
    {
     "name": "stdout",
     "output_type": "stream",
     "text": [
      "dict_keys([1.0])\n"
     ]
    }
   ],
   "source": [
    "eucl_stairs, amplitudes = get_stairs(ind, chip_data, index_min = -4, index_max = 5, acetyl_min = -3, acetyl_max = 5)"
   ]
  },
  {
   "cell_type": "code",
   "execution_count": 22,
   "id": "08123dba",
   "metadata": {},
   "outputs": [
    {
     "data": {
      "text/plain": [
       "{1.0: -0.08672011463546103}"
      ]
     },
     "execution_count": 22,
     "metadata": {},
     "output_type": "execute_result"
    }
   ],
   "source": [
    "amplitudes"
   ]
  },
  {
   "cell_type": "markdown",
   "id": "c86b9016",
   "metadata": {},
   "source": [
    "Manhattan"
   ]
  },
  {
   "cell_type": "code",
   "execution_count": 23,
   "id": "cc7b8277",
   "metadata": {},
   "outputs": [],
   "source": [
    "ind, tads = get_numeration(chr_labels = [\"chr2L\", \"chr2R\", \"chr3L\", \"chr3R\", \"chrX\"],\n",
    "    input_path = \"/Users/dmitriismirnov/Dropbox/Projects/optimalTAD/Results/TAD_tool_comparison/Caspian/Manhattan/\",\n",
    "    resolution = 20000, \n",
    "    chr_length = [1151, 1058, 1228, 1396, 1122])"
   ]
  },
  {
   "cell_type": "code",
   "execution_count": 24,
   "id": "5927d74f",
   "metadata": {},
   "outputs": [
    {
     "name": "stdout",
     "output_type": "stream",
     "text": [
      "dict_keys([1.0])\n"
     ]
    }
   ],
   "source": [
    "manh_stairs, amplitudes = get_stairs(ind, chip_data, index_min = -4, index_max = 5, acetyl_min = -3, acetyl_max = 5)"
   ]
  },
  {
   "cell_type": "code",
   "execution_count": 25,
   "id": "7e15510e",
   "metadata": {},
   "outputs": [
    {
     "data": {
      "text/plain": [
       "{1.0: 0.12617381813277845}"
      ]
     },
     "execution_count": 25,
     "metadata": {},
     "output_type": "execute_result"
    }
   ],
   "source": [
    "amplitudes"
   ]
  },
  {
   "cell_type": "markdown",
   "id": "dd35c9f2",
   "metadata": {},
   "source": [
    "## Li et al BEAF"
   ]
  },
  {
   "cell_type": "code",
   "execution_count": 26,
   "id": "44ac1b38",
   "metadata": {},
   "outputs": [],
   "source": [
    "prefix = \"/Users/dmitriismirnov/Dropbox/Projects/optimalTAD/Results/Li_2015/New/Imputation/\""
   ]
  },
  {
   "cell_type": "code",
   "execution_count": 27,
   "id": "5284d3e9",
   "metadata": {},
   "outputs": [],
   "source": [
    "stairs = pd.read_csv(prefix + \"stair.csv\")"
   ]
  },
  {
   "cell_type": "markdown",
   "id": "75ff64ed",
   "metadata": {},
   "source": [
    "## Stair calling"
   ]
  },
  {
   "cell_type": "code",
   "execution_count": 30,
   "id": "c1cb8e1a",
   "metadata": {},
   "outputs": [],
   "source": [
    "stair_dict = {\"index\" : np.arange(-4,4.1,1).astype(\"int\"), \n",
    "              \"optimalTAD\": stairs.BEAF.values, \n",
    "              \"ClusterTAD\": cluster_tad_stairs[1.0], \n",
    "              \"TopDom\": topdom_stairs[1.0], \n",
    "              \"Caspian_eucl\": eucl_stairs[1.0], \n",
    "              \"Caspian_manh\": manh_stairs[1.0], \n",
    "              \"Caspian_cheb\": cheb_stairs[1.0]}"
   ]
  },
  {
   "cell_type": "code",
   "execution_count": 31,
   "id": "6e6f5190",
   "metadata": {},
   "outputs": [],
   "source": [
    "all_stairs = pd.DataFrame(stair_dict)"
   ]
  },
  {
   "cell_type": "markdown",
   "id": "bd63348d",
   "metadata": {},
   "source": [
    "optimalTAD"
   ]
  },
  {
   "cell_type": "code",
   "execution_count": 32,
   "id": "59e89594",
   "metadata": {},
   "outputs": [
    {
     "data": {
      "image/png": "[encoded data removed]",
      "text/plain": [
       "<Figure size 504x504 with 1 Axes>"
      ]
     },
     "metadata": {
      "needs_background": "light"
     },
     "output_type": "display_data"
    }
   ],
   "source": [
    "fig, ax = plt.subplots(figsize=(7, 7))\n",
    "sns.set_context(\"paper\", font_scale=3.5)\n",
    "\n",
    "#my_pal = {\"Control 1\": \"#2b8cbe\", \"Control 2\": \"#a6bddb\", \"Lam-KD 1\": \"#de2d26\", \"Lam-KD 2\": \"#e5a0a0\"}\n",
    "sns.lineplot(data = all_stairs[[\"index\",\"optimalTAD\"]], x = \"index\", \n",
    "             y = \"optimalTAD\", linewidth = 3)\n",
    "\n",
    "sns.despine(offset=5, trim=False)\n",
    "plt.ylabel('Median z-score of\\nacetylation values', fontsize = 32, labelpad = 2)\n",
    "plt.xlabel('Distance to TAD\\nboundary, kb', fontsize = 32, labelpad = 10)\n",
    "\n",
    "plt.yticks(np.arange(-0.8, 1.61, 0.4))\n",
    "\n",
    "ax.set_xticks([-4, -2,  0,  2,  4])\n",
    "ax.set_xticklabels([-80,  -40,  0,  40,  80])\n",
    "\n",
    "plt.grid()\n",
    "\n",
    "#plt.savefig('../Figures/Comparisons_optimalTAD.png', dpi=350, bbox_inches='tight')"
   ]
  },
  {
   "cell_type": "markdown",
   "id": "46a2240f",
   "metadata": {},
   "source": [
    "ClusterTAD"
   ]
  },
  {
   "cell_type": "code",
   "execution_count": 33,
   "id": "165e749d",
   "metadata": {},
   "outputs": [
    {
     "data": {
      "image/png": "[encoded data removed]",
      "text/plain": [
       "<Figure size 360x504 with 1 Axes>"
      ]
     },
     "metadata": {
      "needs_background": "light"
     },
     "output_type": "display_data"
    }
   ],
   "source": [
    "fig, ax = plt.subplots(figsize=(5, 7))\n",
    "sns.set_context(\"paper\", font_scale=3.5)\n",
    "\n",
    "#my_pal = {\"Control 1\": \"#2b8cbe\", \"Control 2\": \"#a6bddb\", \"Lam-KD 1\": \"#de2d26\", \"Lam-KD 2\": \"#e5a0a0\"}\n",
    "sns.lineplot(data = all_stairs[[\"index\", \"ClusterTAD\"]], x = \"index\", \n",
    "             y = \"ClusterTAD\", linewidth = 3)\n",
    "\n",
    "sns.despine(offset=5, trim=False)\n",
    "plt.ylabel(' ', fontsize = 25, labelpad = 2)\n",
    "plt.xlabel('Distance to TAD\\nboundary, kb', fontsize = 32, labelpad = 10)\n",
    "\n",
    "plt.yticks(np.arange(-0.8, 1.61, 0.4))\n",
    "ax.set_xticks([-4, -3, -2, -1, 0, 1, 2, 3, 4])\n",
    "ax.set_xticklabels([-80, -60, -40, -20, 0, 20, 40, 60, 80])\n",
    "\n",
    "ax.set_xticks([-4, -2,  0,  2,  4])\n",
    "ax.set_xticklabels([-80,  -40,  0,  40,  80])\n",
    "\n",
    "plt.grid()"
   ]
  },
  {
   "cell_type": "markdown",
   "id": "df729b0d",
   "metadata": {},
   "source": [
    "TopDom"
   ]
  },
  {
   "cell_type": "code",
   "execution_count": 34,
   "id": "1965cf48",
   "metadata": {},
   "outputs": [
    {
     "data": {
      "image/png": "[encoded data removed]",
      "text/plain": [
       "<Figure size 360x504 with 1 Axes>"
      ]
     },
     "metadata": {
      "needs_background": "light"
     },
     "output_type": "display_data"
    }
   ],
   "source": [
    "fig, ax = plt.subplots(figsize=(5, 7))\n",
    "sns.set_context(\"paper\", font_scale=3.5)\n",
    "\n",
    "#my_pal = {\"Control 1\": \"#2b8cbe\", \"Control 2\": \"#a6bddb\", \"Lam-KD 1\": \"#de2d26\", \"Lam-KD 2\": \"#e5a0a0\"}\n",
    "sns.lineplot(data = all_stairs[[\"index\",\"TopDom\"]], x = \"index\", \n",
    "             y = \"TopDom\", linewidth = 3)\n",
    "\n",
    "sns.despine(offset=5, trim=False)\n",
    "plt.ylabel(' ', fontsize = 25, labelpad = 2)\n",
    "plt.xlabel('Distance to TAD\\nboundary, kb', fontsize = 32, labelpad = 10)\n",
    "\n",
    "plt.yticks(np.arange(-0.8, 1.61, 0.4))\n",
    "ax.set_xticks([-4, -3, -2, -1, 0, 1, 2, 3, 4])\n",
    "ax.set_xticklabels([-80, -60, -40, -20, 0, 20, 40, 60, 80])\n",
    "\n",
    "ax.set_xticks([-4, -2,  0,  2,  4])\n",
    "ax.set_xticklabels([-80,  -40,  0,  40,  80])\n",
    "\n",
    "plt.grid()"
   ]
  },
  {
   "cell_type": "code",
   "execution_count": 35,
   "id": "e3da8a24",
   "metadata": {},
   "outputs": [
    {
     "name": "stderr",
     "output_type": "stream",
     "text": [
      "<ipython-input-35-a364bea036d0>:9: SettingWithCopyWarning: \n",
      "A value is trying to be set on a copy of a slice from a DataFrame.\n",
      "Try using .loc[row_indexer,col_indexer] = value instead\n",
      "\n",
      "See the caveats in the documentation: https://pandas.pydata.org/pandas-docs/stable/user_guide/indexing.html#returning-a-view-versus-a-copy\n",
      "  df_eucl[\"Method\"] = 'Euclidian'\n",
      "<ipython-input-35-a364bea036d0>:10: SettingWithCopyWarning: \n",
      "A value is trying to be set on a copy of a slice from a DataFrame.\n",
      "Try using .loc[row_indexer,col_indexer] = value instead\n",
      "\n",
      "See the caveats in the documentation: https://pandas.pydata.org/pandas-docs/stable/user_guide/indexing.html#returning-a-view-versus-a-copy\n",
      "  df_manh[\"Method\"] = 'Manhattan'\n",
      "<ipython-input-35-a364bea036d0>:11: SettingWithCopyWarning: \n",
      "A value is trying to be set on a copy of a slice from a DataFrame.\n",
      "Try using .loc[row_indexer,col_indexer] = value instead\n",
      "\n",
      "See the caveats in the documentation: https://pandas.pydata.org/pandas-docs/stable/user_guide/indexing.html#returning-a-view-versus-a-copy\n",
      "  df_cheb[\"Method\"] = 'Chebyshev'\n"
     ]
    }
   ],
   "source": [
    "df_eucl = all_stairs[[\"index\",\"Caspian_eucl\"]]\n",
    "df_manh = all_stairs[[\"index\",\"Caspian_manh\"]]\n",
    "df_cheb = all_stairs[[\"index\",\"Caspian_cheb\"]]\n",
    "\n",
    "df_eucl.columns = [\"index\",\"Value\"]\n",
    "df_manh.columns = [\"index\",\"Value\"]\n",
    "df_cheb.columns = [\"index\",\"Value\"]\n",
    "\n",
    "df_eucl[\"Method\"] = 'Euclidian'\n",
    "df_manh[\"Method\"] = 'Manhattan'\n",
    "df_cheb[\"Method\"] = 'Chebyshev'\n",
    "\n",
    "df_stairs = pd.concat([df_eucl, df_manh, df_cheb])"
   ]
  },
  {
   "cell_type": "markdown",
   "id": "cd06e7a7",
   "metadata": {},
   "source": [
    "Caspian"
   ]
  },
  {
   "cell_type": "code",
   "execution_count": 37,
   "id": "2ec874b1",
   "metadata": {},
   "outputs": [
    {
     "data": {
      "image/png": "[encoded data removed]",
      "text/plain": [
       "<Figure size 360x504 with 1 Axes>"
      ]
     },
     "metadata": {
      "needs_background": "light"
     },
     "output_type": "display_data"
    }
   ],
   "source": [
    "fig, ax = plt.subplots(figsize=(5, 7))\n",
    "sns.set_context(\"paper\", font_scale=3.5)\n",
    "\n",
    "#my_pal = {\"Control 1\": \"#2b8cbe\", \"Control 2\": \"#a6bddb\", \"Lam-KD 1\": \"#de2d26\", \"Lam-KD 2\": \"#e5a0a0\"}\n",
    "sns.lineplot(data = df_stairs, x = \"index\", \n",
    "             y = \"Value\", hue = \"Method\", linewidth = 3)\n",
    "\n",
    "sns.despine(offset=5, trim=False)\n",
    "plt.ylabel(' ', fontsize = 25, labelpad = 2)\n",
    "plt.xlabel('Distance to TAD\\nboundary, kb', fontsize = 32, labelpad = 10)\n",
    "\n",
    "plt.yticks(np.arange(-0.8, 1.61, 0.4))\n",
    "ax.set_xticks([-4, -3, -2, -1, 0, 1, 2, 3, 4])\n",
    "ax.set_xticklabels([-80, -60, -40, -20, 0, 20, 40, 60, 80])\n",
    "plt.setp(ax.get_legend().get_texts(), fontsize='23') # for legend text\n",
    "plt.setp(ax.get_legend().get_title(), fontsize='23') # for legend title\n",
    "\n",
    "ax.set_xticks([-4, -2,  0,  2,  4])\n",
    "ax.set_xticklabels([-80,  -40,  0,  40,  80])\n",
    "\n",
    "plt.grid()"
   ]
  },
  {
   "cell_type": "code",
   "execution_count": 38,
   "id": "b9cd0455",
   "metadata": {},
   "outputs": [],
   "source": [
    "d = {\"Tool\": [\"optimalTAD\", \"TopDom\", \"ClusterTAD\", \"Caspian Manhattan\", \"Caspian Chebyshev\", \"Caspian Euclidian\"], \n",
    " \"Amplitude\": [1.69, 0.96, 0.66, 0.126, 0.082, -0.086]}\n",
    "\n",
    "d = pd.DataFrame(d)"
   ]
  },
  {
   "cell_type": "code",
   "execution_count": 40,
   "id": "a49ecca7",
   "metadata": {},
   "outputs": [
    {
     "data": {
      "text/plain": [
       "[Text(0, 0, 'optimalTAD'),\n",
       " Text(1, 0, 'TopDom'),\n",
       " Text(2, 0, 'ClusterTAD'),\n",
       " Text(3, 0, 'Caspian\\n(Manhattan)'),\n",
       " Text(4, 0, 'Caspian\\n(Chebyshev)'),\n",
       " Text(5, 0, 'Caspian\\n(Euclidian)')]"
      ]
     },
     "execution_count": 40,
     "metadata": {},
     "output_type": "execute_result"
    },
    {
     "data": {
      "image/png": "[encoded data removed]",
      "text/plain": [
       "<Figure size 1080x360 with 1 Axes>"
      ]
     },
     "metadata": {
      "needs_background": "light"
     },
     "output_type": "display_data"
    }
   ],
   "source": [
    "fig, ax = plt.subplots(figsize=(15, 5))\n",
    "sns.set_context(\"paper\", font_scale=2.5)\n",
    "\n",
    "b = sns.barplot(x=\"Tool\", y=\"Amplitude\",\n",
    "                data=d, edgecolor=\".2\", linewidth=1.5)\n",
    "sns.despine(offset=5, trim=False)\n",
    "plt.xlabel('')\n",
    "plt.ylabel('$\\Delta h$ amplitude', fontsize = 25)\n",
    "ax.set_yticks([-0.2, 0, 0.6, 1.2, 1.8])\n",
    "ax.set_yticklabels([-0.2, 0, 0.6, 1.2, 1.8])\n",
    "plt.axhline(y=0, color='black', linestyle='--', linewidth=1.5)\n",
    "plt.grid()\n",
    "ax.set_xticklabels([\"optimalTAD\",  \n",
    "                    \"TopDom\", \"ClusterTAD\", \n",
    "                    \"Caspian\\n(Manhattan)\", \n",
    "                    \"Caspian\\n(Chebyshev)\", \n",
    "                    \"Caspian\\n(Euclidian)\"])"
   ]
  },
  {
   "cell_type": "code",
   "execution_count": null,
   "id": "9ac18a26",
   "metadata": {},
   "outputs": [],
   "source": []
  }
 ],
 "metadata": {
  "kernelspec": {
   "display_name": "Python 3",
   "language": "python",
   "name": "python3"
  },
  "language_info": {
   "codemirror_mode": {
    "name": "ipython",
    "version": 3
   },
   "file_extension": ".py",
   "mimetype": "text/x-python",
   "name": "python",
   "nbconvert_exporter": "python",
   "pygments_lexer": "ipython3",
   "version": "3.9.12"
  }
 },
 "nbformat": 4,
 "nbformat_minor": 5
}
