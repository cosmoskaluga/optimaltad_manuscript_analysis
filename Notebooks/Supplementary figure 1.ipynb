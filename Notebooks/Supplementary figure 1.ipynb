{
 "cells": [
  {
   "cell_type": "code",
   "execution_count": 10,
   "id": "08bfc916",
   "metadata": {},
   "outputs": [],
   "source": [
    "import numpy as np\n",
    "import pandas as pd\n",
    "import matplotlib.pyplot as plt\n",
    "import matplotlib.patches as patches\n",
    "import glob\n",
    "import matplotlib.pyplot as plt\n",
    "import seaborn as sns\n",
    "from matplotlib.ticker import ScalarFormatter, AutoMinorLocator"
   ]
  },
  {
   "cell_type": "markdown",
   "id": "6575e0c5",
   "metadata": {},
   "source": [
    "Empty line imputation:"
   ]
  },
  {
   "cell_type": "code",
   "execution_count": 2,
   "id": "fd125631",
   "metadata": {},
   "outputs": [],
   "source": [
    "prefix = \"/Users/dmitriismirnov/Dropbox/Projects/optimalTAD/Results/Li_2015/New/Imputation/\""
   ]
  },
  {
   "cell_type": "code",
   "execution_count": 3,
   "id": "3ca689c2",
   "metadata": {},
   "outputs": [],
   "source": [
    "ampl = pd.read_csv(prefix + \"amplitudes.csv\")"
   ]
  },
  {
   "cell_type": "code",
   "execution_count": 4,
   "id": "5ee54876",
   "metadata": {},
   "outputs": [],
   "source": [
    "ampl.columns = ['Gamma', 'BEAF-32 Rep2', 'CBP Rep2', 'CBP Rep1', 'CBP Rep3', 'CP190 Rep2', \n",
    "                    'CTCF Rep2', 'CapH2 Rep2', 'CapH2 Rep1', 'Chromator Rep2', 'Chromator Rep1', 'Fs1h.L Rep1', \n",
    "                    'H3K4me1 Rep2', 'H3K4me3 Rep2', 'H3K9me2 Rep1', 'L(3)mbt Rep1', 'Pc-RJ Rep1', \n",
    "                    'Pc-VP Rep1', 'RNAPII Rep1', 'Rad21 Rep2', 'Rad21 Rep1', \n",
    "                    'Rad21 Rep3', \n",
    "                    'TFIIIC Rep2', \n",
    "                    'TFIIIC Rep1', 'Z4 Rep1']"
   ]
  },
  {
   "cell_type": "code",
   "execution_count": 5,
   "id": "398d3344",
   "metadata": {},
   "outputs": [],
   "source": [
    "empLineImp = np.array([])\n",
    "p = ampl[100:]\n",
    "for column in p.columns:\n",
    "    ind = np.argmax(p[[column]].values)\n",
    "    opt_gamma = p[['Gamma']].values[ind]\n",
    "    empLineImp = np.append(empLineImp, opt_gamma[0])"
   ]
  },
  {
   "cell_type": "markdown",
   "id": "0f216a11",
   "metadata": {},
   "source": [
    "No empty line imputation"
   ]
  },
  {
   "cell_type": "code",
   "execution_count": 6,
   "id": "f615e4f6",
   "metadata": {},
   "outputs": [],
   "source": [
    "prefix = \"/Users/dmitriismirnov/Dropbox/Projects/optimalTAD/Results/Li_2015/New/No imputation/\""
   ]
  },
  {
   "cell_type": "code",
   "execution_count": 7,
   "id": "cbb48cf1",
   "metadata": {},
   "outputs": [],
   "source": [
    "ampl_noimp = pd.read_csv(prefix + \"amplitudes.csv\")"
   ]
  },
  {
   "cell_type": "code",
   "execution_count": 8,
   "id": "f35ddd48",
   "metadata": {},
   "outputs": [],
   "source": [
    "ampl_noimp.columns = ['Gamma', 'BEAF-32 Rep2', 'CBP Rep2', 'CBP Rep1', 'CBP Rep3', 'CP190 Rep2', \n",
    "                    'CTCF Rep2', 'CapH2 Rep2', 'CapH2 Rep1', 'Chromator Rep2', 'Chromator Rep1', 'Fs1h.L Rep1', \n",
    "                    'H3K4me1 Rep2', 'H3K4me3 Rep2', 'H3K9me2 Rep1', 'L(3)mbt Rep1', 'Pc-RJ Rep1', \n",
    "                    'Pc-VP Rep1', 'RNAPII Rep1', 'Rad21 Rep2', 'Rad21 Rep1', \n",
    "                    'Rad21 Rep3', \n",
    "                    'TFIIIC Rep2', \n",
    "                    'TFIIIC Rep1', 'Z4 Rep1']"
   ]
  },
  {
   "cell_type": "code",
   "execution_count": 9,
   "id": "16dc8d85",
   "metadata": {},
   "outputs": [],
   "source": [
    "noEmpLineImp = np.array([])\n",
    "\n",
    "p = ampl_noimp[100:]\n",
    "for column in p.columns:\n",
    "    ind = np.argmax(p[[column]].values)\n",
    "    opt_gamma = p[['Gamma']].values[ind]\n",
    "    noEmpLineImp = np.append(noEmpLineImp, opt_gamma[0])"
   ]
  },
  {
   "cell_type": "markdown",
   "id": "c767eeb0",
   "metadata": {},
   "source": [
    "Visualization"
   ]
  },
  {
   "cell_type": "code",
   "execution_count": 11,
   "id": "66725769",
   "metadata": {},
   "outputs": [],
   "source": [
    "df1 = pd.DataFrame({'Gamma': noEmpLineImp[1:], 'Type': 'No imputation'})\n",
    "df2 = pd.DataFrame({'Gamma': empLineImp[1:], 'Type': 'Imputation'})"
   ]
  },
  {
   "cell_type": "code",
   "execution_count": 12,
   "id": "7da8814e",
   "metadata": {},
   "outputs": [],
   "source": [
    "df = pd.concat([df1, df2])"
   ]
  },
  {
   "cell_type": "code",
   "execution_count": 13,
   "id": "47d338c8",
   "metadata": {},
   "outputs": [
    {
     "data": {
      "text/plain": [
       "Text(0.5, 42.0, '')"
      ]
     },
     "execution_count": 13,
     "metadata": {},
     "output_type": "execute_result"
    },
    {
     "data": {
      "image/png": "[encoded data removed]",
      "text/plain": [
       "<Figure size 504x504 with 1 Axes>"
      ]
     },
     "metadata": {
      "needs_background": "light"
     },
     "output_type": "display_data"
    }
   ],
   "source": [
    "fig, ax = plt.subplots(figsize=(7, 7))\n",
    "sns.set_context(\"paper\", font_scale=2.5)\n",
    "\n",
    "my_pal = {\"No imputation\": \"steelblue\", \"Imputation\": \"firebrick\"}\n",
    "sns.boxplot(x = \"Type\", y=\"Gamma\", data=df, showfliers=False, palette=my_pal, linewidth = 3)\n",
    "sns.swarmplot(x = \"Type\", y=\"Gamma\", data=df, color=\".25\", size = 9)\n",
    "sns.despine(offset=5, trim=False)\n",
    "plt.ylabel(r'Optimal $\\gamma$', fontsize = 25, labelpad = 4)\n",
    "plt.xlabel('')"
   ]
  },
  {
   "cell_type": "code",
   "execution_count": null,
   "id": "e3b83296",
   "metadata": {},
   "outputs": [],
   "source": []
  }
 ],
 "metadata": {
  "kernelspec": {
   "display_name": "Python 3",
   "language": "python",
   "name": "python3"
  },
  "language_info": {
   "codemirror_mode": {
    "name": "ipython",
    "version": 3
   },
   "file_extension": ".py",
   "mimetype": "text/x-python",
   "name": "python",
   "nbconvert_exporter": "python",
   "pygments_lexer": "ipython3",
   "version": "3.9.12"
  }
 },
 "nbformat": 4,
 "nbformat_minor": 5
}
